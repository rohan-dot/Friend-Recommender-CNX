{
 "cells": [
  {
   "cell_type": "code",
   "execution_count": 1,
   "metadata": {},
   "outputs": [],
   "source": [
    "def readFile():\n",
    "    inFile = open('friendship_1.txt', 'r')\n",
    "    dataset = inFile.readlines()\n",
    "\n",
    "    return dataset\n"
   ]
  },
  {
   "cell_type": "code",
   "execution_count": 2,
   "metadata": {},
   "outputs": [],
   "source": [
    "def loadDictionary(dataset):\n",
    "    d = {}\n",
    "    for i in range(0, len(dataset)): # Load the friends from left to right\n",
    "        user = dataset[i].split(\"\\t\")\n",
    "        if int(user[0]) in d: # check key exists or not\n",
    "            lis = d[int(user[0])]\n",
    "            lis.append(int(user[1].strip()))\n",
    "            d[int(user[0].strip())] = lis\n",
    "        else: # if key doesn't exist, create new\n",
    "            d[int(user[0].strip())] = [int(user[1].strip())]\n",
    "\n",
    "    for j in range(0, len(dataset)): # Load the friends from right to left\n",
    "        user = dataset[j].split(\"\\t\")\n",
    "        lst = []\n",
    "        if int(user[1].strip()) in d:\n",
    "            lst = d[int(user[1].strip())]\n",
    "            lst.append(int(user[0].strip()))\n",
    "            d[int(user[1].strip())] = lst\n",
    "        else:\n",
    "            lst.append(int(user[0].strip()))\n",
    "            d[int(user[1].strip())] = lst\n",
    "\n",
    "    return d"
   ]
  },
  {
   "cell_type": "code",
   "execution_count": 3,
   "metadata": {},
   "outputs": [],
   "source": [
    "def findUserFriends(user_id):\n",
    "    if int(user_id) in user_dict:\n",
    "        lst = user_dict[int(user_id)]\n",
    "        return lst\n",
    "    else:\n",
    "        return 0\n"
   ]
  },
  {
   "cell_type": "code",
   "execution_count": 4,
   "metadata": {},
   "outputs": [],
   "source": [
    "def findPossibleFriends(user_id, friend_list,user_dict):\n",
    "    friend_suggestions = {}\n",
    "    for z in range(0,len(friend_list)):\n",
    "        for f in range(0,len(user_dict[int(friend_list[z])])):\n",
    "            if user_dict[int(friend_list[z])][f] in friend_suggestions:\n",
    "                friend_suggestions[user_dict[int(friend_list[z])][f]] = friend_suggestions[user_dict[int(friend_list[z])][f]] + 1\n",
    "            else:\n",
    "                friend_suggestions[user_dict[int(friend_list[z])][f]] = 1\n",
    "    friend_suggestions.pop(int(user_id))\n",
    "    return friend_suggestions"
   ]
  },
  {
   "cell_type": "code",
   "execution_count": 10,
   "metadata": {},
   "outputs": [],
   "source": [
    "def findMostFreqFriends(friend_suggestions):\n",
    "    max_freq = 0\n",
    "    most_freq_friends = []\n",
    "    for k,v in friend_suggestions.items():\n",
    "        if v > max_freq:\n",
    "            max_freq = v\n",
    "\n",
    "    for k,v in friend_suggestions.items():\n",
    "        if max_freq == v:\n",
    "            most_freq_friends.append(k)\n",
    "\n",
    "    results = sorted(most_freq_friends)\n",
    "    s_result = \"\"\n",
    "\n",
    "    if len(results) > 0:\n",
    "        for r in range(0,len(results)):\n",
    "            s_result += str(results[r]) + \", \"\n",
    "            print(results)\n",
    "\n",
    "        print(s_result.rstrip(', '))\n",
    "\n",
    "    elif len(results) == 1:\n",
    "        print(results)\n",
    "\n",
    "    else:\n",
    "        print(\"There is no friend to suggest\")"
   ]
  },
  {
   "cell_type": "code",
   "execution_count": 11,
   "metadata": {},
   "outputs": [],
   "source": [
    "dataset = readFile()"
   ]
  },
  {
   "cell_type": "code",
   "execution_count": 12,
   "metadata": {
    "scrolled": true
   },
   "outputs": [],
   "source": [
    "user_dict = loadDictionary(dataset) "
   ]
  },
  {
   "cell_type": "code",
   "execution_count": 13,
   "metadata": {},
   "outputs": [
    {
     "name": "stdout",
     "output_type": "stream",
     "text": [
      "Enter a user id to suggest some friends: 329\n"
     ]
    }
   ],
   "source": [
    "user_id = input(\"Enter a user id to suggest some friends: \") # get user_id\n",
    "user_list = findUserFriends(user_id) # return user list"
   ]
  },
  {
   "cell_type": "code",
   "execution_count": 14,
   "metadata": {},
   "outputs": [
    {
     "name": "stdout",
     "output_type": "stream",
     "text": [
      "[277]\n",
      "277\n"
     ]
    }
   ],
   "source": [
    "if user_list != 0:\n",
    "    friend_suggestions = findPossibleFriends(user_id,user_list,user_dict)\n",
    "    findMostFreqFriends(friend_suggestions)\n",
    "else:\n",
    "    print(\"There is no such user\")"
   ]
  },
  {
   "cell_type": "code",
   "execution_count": null,
   "metadata": {},
   "outputs": [],
   "source": []
  },
  {
   "cell_type": "code",
   "execution_count": null,
   "metadata": {},
   "outputs": [],
   "source": []
  },
  {
   "cell_type": "code",
   "execution_count": null,
   "metadata": {},
   "outputs": [],
   "source": []
  },
  {
   "cell_type": "code",
   "execution_count": null,
   "metadata": {},
   "outputs": [],
   "source": []
  },
  {
   "cell_type": "code",
   "execution_count": null,
   "metadata": {},
   "outputs": [],
   "source": []
  },
  {
   "cell_type": "code",
   "execution_count": null,
   "metadata": {},
   "outputs": [],
   "source": []
  },
  {
   "cell_type": "code",
   "execution_count": null,
   "metadata": {},
   "outputs": [],
   "source": []
  },
  {
   "cell_type": "code",
   "execution_count": null,
   "metadata": {},
   "outputs": [],
   "source": []
  }
 ],
 "metadata": {
  "kernelspec": {
   "display_name": "Python 3",
   "language": "python",
   "name": "python3"
  },
  "language_info": {
   "codemirror_mode": {
    "name": "ipython",
    "version": 3
   },
   "file_extension": ".py",
   "mimetype": "text/x-python",
   "name": "python",
   "nbconvert_exporter": "python",
   "pygments_lexer": "ipython3",
   "version": "3.7.3"
  }
 },
 "nbformat": 4,
 "nbformat_minor": 2
}
